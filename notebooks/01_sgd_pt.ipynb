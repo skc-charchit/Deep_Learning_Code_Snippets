{
 "cells": [
  {
   "cell_type": "code",
   "execution_count": 3,
   "id": "975526ed",
   "metadata": {},
   "outputs": [],
   "source": [
    "import numpy as np\n",
    "import matplotlib.pyplot as plt\n",
    "import pandas as pd\n",
    "import seaborn as sns\n",
    "from sklearn.model_selection import train_test_split\n",
    "from sklearn.preprocessing import StandardScaler, MinMaxScaler\n",
    "\n",
    "import torch\n",
    "import torch.nn as nn\n",
    "import torch.optim as optim\n",
    "from torch.utils.data import Dataset, DataLoader\n",
    "from torchsummary import summary\n",
    "from sklearn.metrics import accuracy_score\n",
    "import warnings\n",
    "warnings.filterwarnings(\"ignore\")"
   ]
  },
  {
   "cell_type": "code",
   "execution_count": 5,
   "id": "0027f5c7",
   "metadata": {},
   "outputs": [
    {
     "data": {
      "text/plain": [
       "'cuda'"
      ]
     },
     "execution_count": 5,
     "metadata": {},
     "output_type": "execute_result"
    }
   ],
   "source": [
    "device = 'cuda' if torch.cuda.is_available() else 'cpu'\n",
    "device"
   ]
  },
  {
   "cell_type": "code",
   "execution_count": 2,
   "id": "df9a0fcc",
   "metadata": {},
   "outputs": [
    {
     "data": {
      "text/html": [
       "<div>\n",
       "<style scoped>\n",
       "    .dataframe tbody tr th:only-of-type {\n",
       "        vertical-align: middle;\n",
       "    }\n",
       "\n",
       "    .dataframe tbody tr th {\n",
       "        vertical-align: top;\n",
       "    }\n",
       "\n",
       "    .dataframe thead th {\n",
       "        text-align: right;\n",
       "    }\n",
       "</style>\n",
       "<table border=\"1\" class=\"dataframe\">\n",
       "  <thead>\n",
       "    <tr style=\"text-align: right;\">\n",
       "      <th></th>\n",
       "      <th>person_age</th>\n",
       "      <th>person_gender</th>\n",
       "      <th>person_education</th>\n",
       "      <th>person_income</th>\n",
       "      <th>person_emp_exp</th>\n",
       "      <th>person_home_ownership</th>\n",
       "      <th>loan_amnt</th>\n",
       "      <th>loan_intent</th>\n",
       "      <th>loan_int_rate</th>\n",
       "      <th>loan_percent_income</th>\n",
       "      <th>cb_person_cred_hist_length</th>\n",
       "      <th>credit_score</th>\n",
       "      <th>previous_loan_defaults_on_file</th>\n",
       "      <th>loan_status</th>\n",
       "    </tr>\n",
       "  </thead>\n",
       "  <tbody>\n",
       "    <tr>\n",
       "      <th>0</th>\n",
       "      <td>-0.953538</td>\n",
       "      <td>0</td>\n",
       "      <td>4</td>\n",
       "      <td>-0.104090</td>\n",
       "      <td>-0.892284</td>\n",
       "      <td>3</td>\n",
       "      <td>4.024953</td>\n",
       "      <td>4</td>\n",
       "      <td>1.683039</td>\n",
       "      <td>4.016394</td>\n",
       "      <td>-0.739109</td>\n",
       "      <td>-1.419814</td>\n",
       "      <td>0</td>\n",
       "      <td>1</td>\n",
       "    </tr>\n",
       "    <tr>\n",
       "      <th>1</th>\n",
       "      <td>-1.118963</td>\n",
       "      <td>0</td>\n",
       "      <td>3</td>\n",
       "      <td>-0.846005</td>\n",
       "      <td>-0.892284</td>\n",
       "      <td>2</td>\n",
       "      <td>-1.359209</td>\n",
       "      <td>1</td>\n",
       "      <td>0.044782</td>\n",
       "      <td>-0.684829</td>\n",
       "      <td>-0.996863</td>\n",
       "      <td>-2.549975</td>\n",
       "      <td>1</td>\n",
       "      <td>0</td>\n",
       "    </tr>\n",
       "    <tr>\n",
       "      <th>2</th>\n",
       "      <td>-0.457264</td>\n",
       "      <td>0</td>\n",
       "      <td>3</td>\n",
       "      <td>-0.844065</td>\n",
       "      <td>-0.397517</td>\n",
       "      <td>0</td>\n",
       "      <td>-0.646600</td>\n",
       "      <td>3</td>\n",
       "      <td>0.625557</td>\n",
       "      <td>3.443074</td>\n",
       "      <td>-0.739109</td>\n",
       "      <td>0.047412</td>\n",
       "      <td>0</td>\n",
       "      <td>1</td>\n",
       "    </tr>\n",
       "    <tr>\n",
       "      <th>3</th>\n",
       "      <td>-0.788113</td>\n",
       "      <td>0</td>\n",
       "      <td>1</td>\n",
       "      <td>-0.007039</td>\n",
       "      <td>-0.892284</td>\n",
       "      <td>3</td>\n",
       "      <td>4.024953</td>\n",
       "      <td>3</td>\n",
       "      <td>1.417829</td>\n",
       "      <td>3.443074</td>\n",
       "      <td>-0.996863</td>\n",
       "      <td>0.840507</td>\n",
       "      <td>0</td>\n",
       "      <td>1</td>\n",
       "    </tr>\n",
       "    <tr>\n",
       "      <th>4</th>\n",
       "      <td>-0.622689</td>\n",
       "      <td>1</td>\n",
       "      <td>4</td>\n",
       "      <td>-0.176371</td>\n",
       "      <td>-0.727362</td>\n",
       "      <td>3</td>\n",
       "      <td>4.024953</td>\n",
       "      <td>3</td>\n",
       "      <td>1.095549</td>\n",
       "      <td>4.475050</td>\n",
       "      <td>-0.481354</td>\n",
       "      <td>-0.924130</td>\n",
       "      <td>0</td>\n",
       "      <td>1</td>\n",
       "    </tr>\n",
       "  </tbody>\n",
       "</table>\n",
       "</div>"
      ],
      "text/plain": [
       "   person_age  person_gender  person_education  person_income  person_emp_exp  \\\n",
       "0   -0.953538              0                 4      -0.104090       -0.892284   \n",
       "1   -1.118963              0                 3      -0.846005       -0.892284   \n",
       "2   -0.457264              0                 3      -0.844065       -0.397517   \n",
       "3   -0.788113              0                 1      -0.007039       -0.892284   \n",
       "4   -0.622689              1                 4      -0.176371       -0.727362   \n",
       "\n",
       "   person_home_ownership  loan_amnt  loan_intent  loan_int_rate  \\\n",
       "0                      3   4.024953            4       1.683039   \n",
       "1                      2  -1.359209            1       0.044782   \n",
       "2                      0  -0.646600            3       0.625557   \n",
       "3                      3   4.024953            3       1.417829   \n",
       "4                      3   4.024953            3       1.095549   \n",
       "\n",
       "   loan_percent_income  cb_person_cred_hist_length  credit_score  \\\n",
       "0             4.016394                   -0.739109     -1.419814   \n",
       "1            -0.684829                   -0.996863     -2.549975   \n",
       "2             3.443074                   -0.739109      0.047412   \n",
       "3             3.443074                   -0.996863      0.840507   \n",
       "4             4.475050                   -0.481354     -0.924130   \n",
       "\n",
       "   previous_loan_defaults_on_file  loan_status  \n",
       "0                               0            1  \n",
       "1                               1            0  \n",
       "2                               0            1  \n",
       "3                               0            1  \n",
       "4                               0            1  "
      ]
     },
     "execution_count": 2,
     "metadata": {},
     "output_type": "execute_result"
    }
   ],
   "source": [
    "df = pd.read_csv(r\"D:\\Work_Station\\DeeplearningBasics\\src\\processed_dataset.csv\")\n",
    "df.head()"
   ]
  },
  {
   "cell_type": "code",
   "execution_count": 6,
   "id": "fcb6ba53",
   "metadata": {},
   "outputs": [
    {
     "data": {
      "text/plain": [
       "(45000, 14)"
      ]
     },
     "execution_count": 6,
     "metadata": {},
     "output_type": "execute_result"
    }
   ],
   "source": [
    "df.shape"
   ]
  },
  {
   "cell_type": "code",
   "execution_count": 9,
   "id": "df0dfe7a",
   "metadata": {},
   "outputs": [],
   "source": [
    "X = np.array(df.iloc[:,:-1])\n",
    "Y = np.array(df.iloc[:,-1])"
   ]
  },
  {
   "cell_type": "code",
   "execution_count": 11,
   "id": "b3dc502b",
   "metadata": {},
   "outputs": [],
   "source": [
    "X_train, X_test, y_train, y_test = train_test_split(X, Y, test_size = 0.3, random_state = 42)\n",
    "X_test, X_val, y_test, y_val = train_test_split(X_test, y_test, test_size = 0.5, random_state = 42)"
   ]
  },
  {
   "cell_type": "markdown",
   "id": "b893999a",
   "metadata": {},
   "source": [
    "## Dataset Object Class"
   ]
  },
  {
   "cell_type": "code",
   "execution_count": 56,
   "id": "304c9446",
   "metadata": {},
   "outputs": [],
   "source": [
    "#Creating Dataset Object\n",
    "class dataset(Dataset):\n",
    "    def __init__(self, X, Y):\n",
    "        self.X = torch.tensor(X, dtype = torch.float32).to(device)\n",
    "        self.Y = torch.tensor(Y, dtype = torch.float32).to(device)\n",
    "\n",
    "    def __len__(self):\n",
    "        return len(self.X)\n",
    "    \n",
    "    def __getitem__(self, index):\n",
    "        return self.X[index], self.Y[index]"
   ]
  },
  {
   "cell_type": "code",
   "execution_count": 57,
   "id": "72d00d26",
   "metadata": {},
   "outputs": [],
   "source": [
    "training_data = dataset(X_train, y_train)\n",
    "validation_data = dataset(X_val, y_val)\n",
    "testing_data = dataset(X_test, y_test)"
   ]
  },
  {
   "cell_type": "markdown",
   "id": "a0834525",
   "metadata": {},
   "source": [
    "## Data Loader\n",
    "\n",
    "- To create a [batch size] of the data we create DataLoader\n",
    "- It is an object that we use to do the for loop during each epoch, to loop through the specific amount of batches"
   ]
  },
  {
   "cell_type": "code",
   "execution_count": 58,
   "id": "e56a2286",
   "metadata": {},
   "outputs": [],
   "source": [
    "batch_size = 32 #For rows inside the DataLoader\n",
    "\n",
    "train_dataloader = DataLoader(training_data, batch_size = batch_size, shuffle = True)\n",
    "validation_dataloader = DataLoader(validation_data, batch_size = batch_size, shuffle = True)\n",
    "test_dataloader = DataLoader(testing_data, batch_size = batch_size, shuffle = True)"
   ]
  },
  {
   "cell_type": "markdown",
   "id": "2e25df37",
   "metadata": {},
   "source": [
    "## Building Model"
   ]
  },
  {
   "cell_type": "code",
   "execution_count": 59,
   "id": "26422c79",
   "metadata": {},
   "outputs": [],
   "source": [
    "Hidden_Neurons = 64\n",
    "\n",
    "class MyModel(nn.Module):\n",
    "    def __init__(self):\n",
    "        super(MyModel,self).__init__()\n",
    "\n",
    "        self.input_layer = nn.Linear(X.shape[1], Hidden_Neurons)\n",
    "        self.linear = nn.Linear(Hidden_Neurons, 1)\n",
    "        self.sigmoid = nn.Sigmoid()\n",
    "\n",
    "    def forward(self, x):\n",
    "        x = self.input_layer(x)\n",
    "        x = self.linear(x)\n",
    "        x = self.sigmoid(x)\n",
    "\n",
    "        return x\n",
    "    \n",
    "model = MyModel().to(device)"
   ]
  },
  {
   "cell_type": "code",
   "execution_count": 60,
   "id": "27ebd6f9",
   "metadata": {},
   "outputs": [
    {
     "name": "stdout",
     "output_type": "stream",
     "text": [
      "----------------------------------------------------------------\n",
      "        Layer (type)               Output Shape         Param #\n",
      "================================================================\n",
      "            Linear-1                   [-1, 64]             896\n",
      "            Linear-2                    [-1, 1]              65\n",
      "           Sigmoid-3                    [-1, 1]               0\n",
      "================================================================\n",
      "Total params: 961\n",
      "Trainable params: 961\n",
      "Non-trainable params: 0\n",
      "----------------------------------------------------------------\n",
      "Input size (MB): 0.00\n",
      "Forward/backward pass size (MB): 0.00\n",
      "Params size (MB): 0.00\n",
      "Estimated Total Size (MB): 0.00\n",
      "----------------------------------------------------------------\n"
     ]
    }
   ],
   "source": [
    "summary(model, (X.shape[1], ))"
   ]
  },
  {
   "cell_type": "markdown",
   "id": "5163b3e6",
   "metadata": {},
   "source": [
    "## Loss Function"
   ]
  },
  {
   "cell_type": "code",
   "execution_count": 66,
   "id": "ef74cf05",
   "metadata": {},
   "outputs": [],
   "source": [
    "criterion = nn.BCELoss()\n",
    "optimizer = optim.SGD(model.parameters(), lr = 0.001, momentum = 0) #1e-3"
   ]
  },
  {
   "cell_type": "code",
   "execution_count": 67,
   "id": "280dda62",
   "metadata": {},
   "outputs": [
    {
     "name": "stdout",
     "output_type": "stream",
     "text": [
      "Epoch 1/10\n",
      "Train Loss: 0.2310, Train Accuracy: 0.8902\n",
      "Validation Loss: 0.2354, Validation Accuracy: 0.8886\n",
      "--------------------------------------------------\n",
      "Epoch 2/10\n",
      "Train Loss: 0.2304, Train Accuracy: 0.8905\n",
      "Validation Loss: 0.2353, Validation Accuracy: 0.8895\n",
      "--------------------------------------------------\n",
      "Epoch 3/10\n",
      "Train Loss: 0.2303, Train Accuracy: 0.8913\n",
      "Validation Loss: 0.2352, Validation Accuracy: 0.8893\n",
      "--------------------------------------------------\n",
      "Epoch 4/10\n",
      "Train Loss: 0.2301, Train Accuracy: 0.8914\n",
      "Validation Loss: 0.2353, Validation Accuracy: 0.8896\n",
      "--------------------------------------------------\n",
      "Epoch 5/10\n",
      "Train Loss: 0.2300, Train Accuracy: 0.8913\n",
      "Validation Loss: 0.2353, Validation Accuracy: 0.8899\n",
      "--------------------------------------------------\n",
      "Epoch 6/10\n",
      "Train Loss: 0.2301, Train Accuracy: 0.8919\n",
      "Validation Loss: 0.2352, Validation Accuracy: 0.8890\n",
      "--------------------------------------------------\n",
      "Epoch 7/10\n",
      "Train Loss: 0.2299, Train Accuracy: 0.8914\n",
      "Validation Loss: 0.2354, Validation Accuracy: 0.8895\n",
      "--------------------------------------------------\n",
      "Epoch 8/10\n",
      "Train Loss: 0.2299, Train Accuracy: 0.8915\n",
      "Validation Loss: 0.2355, Validation Accuracy: 0.8899\n",
      "--------------------------------------------------\n",
      "Epoch 9/10\n",
      "Train Loss: 0.2299, Train Accuracy: 0.8919\n",
      "Validation Loss: 0.2353, Validation Accuracy: 0.8895\n",
      "--------------------------------------------------\n",
      "Epoch 10/10\n",
      "Train Loss: 0.2299, Train Accuracy: 0.8916\n",
      "Validation Loss: 0.2354, Validation Accuracy: 0.8895\n",
      "--------------------------------------------------\n"
     ]
    }
   ],
   "source": [
    "total_loss_train_plot = []\n",
    "total_loss_validation_plot = []\n",
    "total_acc_train_plot = []\n",
    "total_acc_validation_plot = []\n",
    "\n",
    "epochs = 10\n",
    "\n",
    "for epoch in range(epochs):\n",
    "    total_acc_train = 0\n",
    "    total_loss_train = 0\n",
    "    total_samples_train = 0\n",
    "\n",
    "    model.train()  # Training mode\n",
    "    for data in train_dataloader:\n",
    "        inputs, labels = data\n",
    "\n",
    "        prediction = model(inputs).squeeze(1)\n",
    "        batch_loss = criterion(prediction, labels)\n",
    "\n",
    "        optimizer.zero_grad()\n",
    "        batch_loss.backward()\n",
    "        optimizer.step()\n",
    "\n",
    "        total_loss_train += batch_loss.item()\n",
    "\n",
    "        # Number of correct predictions in this batch\n",
    "        acc = ((prediction.round() == labels).sum().item())\n",
    "        total_acc_train += acc\n",
    "        total_samples_train += labels.size(0)\n",
    "\n",
    "    avg_train_loss = total_loss_train / len(train_dataloader)\n",
    "    avg_train_acc = total_acc_train / total_samples_train\n",
    "\n",
    "    total_loss_train_plot.append(avg_train_loss)\n",
    "    total_acc_train_plot.append(avg_train_acc)\n",
    "\n",
    "    # Validation\n",
    "    model.eval()  # Evaluation mode\n",
    "    total_acc_validation = 0\n",
    "    total_loss_validation = 0\n",
    "    total_samples_validation = 0\n",
    "\n",
    "    with torch.no_grad():\n",
    "        for data in validation_dataloader:\n",
    "            inputs, labels = data\n",
    "            prediction = model(inputs).squeeze(1)\n",
    "            batch_loss = criterion(prediction, labels)\n",
    "\n",
    "            total_loss_validation += batch_loss.item()\n",
    "\n",
    "            acc = ((prediction.round() == labels).sum().item())\n",
    "            total_acc_validation += acc\n",
    "            total_samples_validation += labels.size(0)\n",
    "\n",
    "    avg_val_loss = total_loss_validation / len(validation_dataloader)\n",
    "    avg_val_acc = total_acc_validation / total_samples_validation\n",
    "\n",
    "    total_loss_validation_plot.append(avg_val_loss)\n",
    "    total_acc_validation_plot.append(avg_val_acc)\n",
    "\n",
    "    print(f\"Epoch {epoch+1}/{epochs}\")\n",
    "    print(f\"Train Loss: {avg_train_loss:.4f}, Train Accuracy: {avg_train_acc:.4f}\")\n",
    "    print(f\"Validation Loss: {avg_val_loss:.4f}, Validation Accuracy: {avg_val_acc:.4f}\")\n",
    "    print(\"--------------------------------------------------\")\n"
   ]
  },
  {
   "cell_type": "markdown",
   "id": "a2b64ca5",
   "metadata": {},
   "source": [
    "## Testing"
   ]
  },
  {
   "cell_type": "code",
   "execution_count": 68,
   "id": "a12d6693",
   "metadata": {},
   "outputs": [
    {
     "name": "stdout",
     "output_type": "stream",
     "text": [
      "Test Loss: 0.2347, Test Accuracy: 0.8881\n"
     ]
    }
   ],
   "source": [
    "with torch.no_grad():\n",
    "    total_acc_test = 0\n",
    "    total_loss_test = 0\n",
    "\n",
    "    for data in test_dataloader:\n",
    "        inputs, labels = data\n",
    "        prediction = model(inputs).squeeze(1)\n",
    "        batch_loss = criterion(prediction, labels)\n",
    "        total_loss_test += batch_loss.item()\n",
    "        acc = ((prediction).round() == labels).sum().item()\n",
    "        total_acc_test += acc\n",
    "\n",
    "\n",
    "print(f\"Test Loss: {round(total_loss_test / len(test_dataloader), 4)}, Test Accuracy: {round(total_acc_test / len(testing_data), 4)}\")"
   ]
  },
  {
   "cell_type": "markdown",
   "id": "e3cc99b5",
   "metadata": {},
   "source": [
    "## Visualization"
   ]
  },
  {
   "cell_type": "code",
   "execution_count": 69,
   "id": "8b8459b3",
   "metadata": {},
   "outputs": [
    {
     "data": {
      "image/png": "[encoded data removed]",
      "text/plain": [
       "<Figure size 1000x1000 with 2 Axes>"
      ]
     },
     "metadata": {},
     "output_type": "display_data"
    }
   ],
   "source": [
    "fig, axs = plt.subplots(nrows=2, ncols=1, figsize=(10, 10))\n",
    "\n",
    "# Loss plot\n",
    "axs[0].plot(total_loss_train_plot, label='Train Loss')\n",
    "axs[0].plot(total_loss_validation_plot, label='Validation Loss')\n",
    "axs[0].set_title('Loss Plot')\n",
    "axs[0].set_xlabel('Epochs')\n",
    "axs[0].set_ylabel('Loss')\n",
    "axs[0].set_ylim(0, max(max(total_loss_train_plot), max(total_loss_validation_plot)) + 0.5)\n",
    "axs[0].legend()\n",
    "\n",
    "\n",
    "# Accuracy plot\n",
    "axs[1].plot(total_acc_train_plot, label='Train Accuracy')\n",
    "axs[1].plot(total_acc_validation_plot, label='Validation Accuracy')\n",
    "axs[1].set_title('Accuracy Plot')\n",
    "axs[1].set_xlabel('Epochs')\n",
    "axs[1].set_ylabel('Accuracy')\n",
    "axs[1].set_ylim(0, 1)\n",
    "axs[1].legend()\n",
    "\n",
    "\n",
    "plt.tight_layout()\n",
    "plt.show()\n"
   ]
  }
 ],
 "metadata": {
  "kernelspec": {
   "display_name": "DeeplearningBasics",
   "language": "python",
   "name": "python3"
  },
  "language_info": {
   "codemirror_mode": {
    "name": "ipython",
    "version": 3
   },
   "file_extension": ".py",
   "mimetype": "text/x-python",
   "name": "python",
   "nbconvert_exporter": "python",
   "pygments_lexer": "ipython3",
   "version": "3.12.4"
  }
 },
 "nbformat": 4,
 "nbformat_minor": 5
}
